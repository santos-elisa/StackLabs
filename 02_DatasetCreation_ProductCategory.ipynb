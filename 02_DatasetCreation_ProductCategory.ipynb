{
  "nbformat": 4,
  "nbformat_minor": 0,
  "metadata": {
    "colab": {
      "name": "02_DatasetCreation_ProductCategory.ipynb",
      "provenance": [],
      "collapsed_sections": [],
      "toc_visible": true
    },
    "kernelspec": {
      "name": "python3",
      "display_name": "Python 3"
    },
    "language_info": {
      "name": "python"
    }
  },
  "cells": [
    {
      "cell_type": "markdown",
      "source": [
        "# **Product Category Dataset Creation**\n",
        "\n",
        "**Description**\n",
        "\n",
        "[Olist](https://olist.com/pt-br/) is a Brazilian Unicorn that offers e-commerce solutions for small and mid-size companies in Brazil.\n",
        "\n",
        "The Olist datasets are related to Sales between 2017 and 2018 in many categories, from Bed Bath & Table to Agro.\n",
        "\n",
        "**Objective**\n",
        "\n",
        "Creating a dataset based on product category to support a Machine Learning Feasibility Study on Time Series.\n",
        "\n",
        "**Source**\n",
        "\n",
        "Olist Datasets: https://www.kaggle.com/olistbr/brazilian-ecommerce\n",
        "\n",
        "Exploratory Analysis: https://github.com/santos-elisa/StackLabs/blob/main/DatasetOlist_ExploratoryAnalysis.ipynb\n",
        "\n",
        "Stack Labs are promoted by [Stack Tecnologias](https://stacktecnologias.com.br)."
      ],
      "metadata": {
        "id": "U5cx-E-Pn6_h"
      }
    },
    {
      "cell_type": "markdown",
      "source": [
        "# **Settings**"
      ],
      "metadata": {
        "id": "CBV8HysNf36r"
      }
    },
    {
      "cell_type": "code",
      "source": [
        "# Importing drive using Google Colab.\n",
        "from google.colab import drive\n",
        "drive.mount('/content/drive')"
      ],
      "metadata": {
        "colab": {
          "base_uri": "https://localhost:8080/"
        },
        "id": "A_WcX4X7royu",
        "outputId": "f8816dc2-b723-4939-b719-15bfc1aa4002"
      },
      "execution_count": 3,
      "outputs": [
        {
          "output_type": "stream",
          "name": "stdout",
          "text": [
            "Drive already mounted at /content/drive; to attempt to forcibly remount, call drive.mount(\"/content/drive\", force_remount=True).\n"
          ]
        }
      ]
    },
    {
      "cell_type": "code",
      "source": [
        "# Importing library.\n",
        "import pandas as pd"
      ],
      "metadata": {
        "id": "xJ6N9459sKPB"
      },
      "execution_count": 4,
      "outputs": []
    },
    {
      "cell_type": "markdown",
      "source": [
        "# **Reading Olist datasets**\n",
        "\n",
        "Reading selected columns from four datasets with a focus on time series analysis."
      ],
      "metadata": {
        "id": "pD8kDvQWCCVy"
      }
    },
    {
      "cell_type": "code",
      "source": [
        "# Selecting columns from the Order Items dataset.\n",
        "df_order_items_cols = pd.read_csv('/content/drive/MyDrive/StackLabs2201/Datasets/olist_order_items_dataset.csv',\n",
        "                                 sep=',',\n",
        "                                 header=0,\n",
        "                                 usecols=['order_id','product_id','price']\n",
        ")"
      ],
      "metadata": {
        "id": "E5_eA-usDfpW"
      },
      "execution_count": 5,
      "outputs": []
    },
    {
      "cell_type": "code",
      "source": [
        "# Selecting columns from the Orders dataset.\n",
        "df_orders_cols = pd.read_csv('/content/drive/MyDrive/StackLabs2201/Datasets/olist_orders_dataset.csv',\n",
        "                                 sep=',',\n",
        "                                 header=0,\n",
        "                                 usecols=['order_id','order_status','order_purchase_timestamp']\n",
        ")"
      ],
      "metadata": {
        "id": "nAG_55MQ0XKl"
      },
      "execution_count": 6,
      "outputs": []
    },
    {
      "cell_type": "code",
      "source": [
        "# Selecting columns from Products dataset.\n",
        "df_products_cols = pd.read_csv('/content/drive/MyDrive/StackLabs2201/Datasets/olist_products_dataset.csv',\n",
        "                                 sep=',',\n",
        "                                 header=0,\n",
        "                                 usecols=['product_id','product_category_name']\n",
        ")"
      ],
      "metadata": {
        "id": "_NWYNTZ60vEM"
      },
      "execution_count": 7,
      "outputs": []
    },
    {
      "cell_type": "code",
      "source": [
        "# Selecting columns from the Product Category Name Translation dataset.\n",
        "df_prod_cat_cols = pd.read_csv('/content/drive/MyDrive/StackLabs2201/Datasets/product_category_name_translation.csv',\n",
        "                              sep=','\n",
        "                              ,header=0\n",
        ")"
      ],
      "metadata": {
        "id": "RU6gPpqq18s9"
      },
      "execution_count": 8,
      "outputs": []
    },
    {
      "cell_type": "markdown",
      "source": [
        "# **Creating a dataset with selected columns**"
      ],
      "metadata": {
        "id": "YSYpvXT3M9YQ"
      }
    },
    {
      "cell_type": "code",
      "source": [
        "# Merging Order Items and Orders datasets based on the order id.\n",
        "merge_1 = pd.merge(df_order_items_cols, df_orders_cols, on='order_id', how='left')"
      ],
      "metadata": {
        "id": "-wHHL7Fw1PSS"
      },
      "execution_count": 9,
      "outputs": []
    },
    {
      "cell_type": "code",
      "source": [
        "# Merging merge_1 and Products datasets based on the product id.\n",
        "merge_2 = pd.merge(merge_1, df_products_cols, on='product_id', how='left')"
      ],
      "metadata": {
        "id": "C9jLYuAv1dgT"
      },
      "execution_count": 10,
      "outputs": []
    },
    {
      "cell_type": "code",
      "source": [
        "# Merging merge_2 and Product Category Name Translation datasets based on the product category name.\n",
        "merge_3 = pd.merge(merge_2, df_prod_cat_cols, on='product_category_name', how='left')"
      ],
      "metadata": {
        "id": "ESFvER0S1oL-"
      },
      "execution_count": 11,
      "outputs": []
    },
    {
      "cell_type": "code",
      "source": [
        "# Creating a dataframe with the result of previous merges.\n",
        "df_selected_cols = merge_3"
      ],
      "metadata": {
        "id": "_GyuLc_5Lh6-"
      },
      "execution_count": 12,
      "outputs": []
    },
    {
      "cell_type": "code",
      "source": [
        "# General info about the dataset: class, entries, columns, non-null count, data type and memory usage.\n",
        "df_selected_cols.info()"
      ],
      "metadata": {
        "colab": {
          "base_uri": "https://localhost:8080/"
        },
        "id": "I_LIo1fBMgOQ",
        "outputId": "0ec51301-abce-427c-e3a4-305e0f865dc9"
      },
      "execution_count": 13,
      "outputs": [
        {
          "output_type": "stream",
          "name": "stdout",
          "text": [
            "<class 'pandas.core.frame.DataFrame'>\n",
            "Int64Index: 112650 entries, 0 to 112649\n",
            "Data columns (total 7 columns):\n",
            " #   Column                         Non-Null Count   Dtype  \n",
            "---  ------                         --------------   -----  \n",
            " 0   order_id                       112650 non-null  object \n",
            " 1   product_id                     112650 non-null  object \n",
            " 2   price                          112650 non-null  float64\n",
            " 3   order_status                   112650 non-null  object \n",
            " 4   order_purchase_timestamp       112650 non-null  object \n",
            " 5   product_category_name          111047 non-null  object \n",
            " 6   product_category_name_english  111023 non-null  object \n",
            "dtypes: float64(1), object(6)\n",
            "memory usage: 6.9+ MB\n"
          ]
        }
      ]
    },
    {
      "cell_type": "code",
      "source": [
        "# First five lines of the dataset, including the headline.\n",
        "df_selected_cols.head()"
      ],
      "metadata": {
        "colab": {
          "base_uri": "https://localhost:8080/",
          "height": 270
        },
        "id": "AZPvjLsCMKRa",
        "outputId": "e730f6aa-acd0-4006-bad0-92d651dc6460"
      },
      "execution_count": 14,
      "outputs": [
        {
          "output_type": "execute_result",
          "data": {
            "text/html": [
              "\n",
              "  <div id=\"df-341e60dd-a3c3-468f-9367-b21e17e709ea\">\n",
              "    <div class=\"colab-df-container\">\n",
              "      <div>\n",
              "<style scoped>\n",
              "    .dataframe tbody tr th:only-of-type {\n",
              "        vertical-align: middle;\n",
              "    }\n",
              "\n",
              "    .dataframe tbody tr th {\n",
              "        vertical-align: top;\n",
              "    }\n",
              "\n",
              "    .dataframe thead th {\n",
              "        text-align: right;\n",
              "    }\n",
              "</style>\n",
              "<table border=\"1\" class=\"dataframe\">\n",
              "  <thead>\n",
              "    <tr style=\"text-align: right;\">\n",
              "      <th></th>\n",
              "      <th>order_id</th>\n",
              "      <th>product_id</th>\n",
              "      <th>price</th>\n",
              "      <th>order_status</th>\n",
              "      <th>order_purchase_timestamp</th>\n",
              "      <th>product_category_name</th>\n",
              "      <th>product_category_name_english</th>\n",
              "    </tr>\n",
              "  </thead>\n",
              "  <tbody>\n",
              "    <tr>\n",
              "      <th>0</th>\n",
              "      <td>00010242fe8c5a6d1ba2dd792cb16214</td>\n",
              "      <td>4244733e06e7ecb4970a6e2683c13e61</td>\n",
              "      <td>58.90</td>\n",
              "      <td>delivered</td>\n",
              "      <td>2017-09-13 08:59:02</td>\n",
              "      <td>cool_stuff</td>\n",
              "      <td>cool_stuff</td>\n",
              "    </tr>\n",
              "    <tr>\n",
              "      <th>1</th>\n",
              "      <td>00018f77f2f0320c557190d7a144bdd3</td>\n",
              "      <td>e5f2d52b802189ee658865ca93d83a8f</td>\n",
              "      <td>239.90</td>\n",
              "      <td>delivered</td>\n",
              "      <td>2017-04-26 10:53:06</td>\n",
              "      <td>pet_shop</td>\n",
              "      <td>pet_shop</td>\n",
              "    </tr>\n",
              "    <tr>\n",
              "      <th>2</th>\n",
              "      <td>000229ec398224ef6ca0657da4fc703e</td>\n",
              "      <td>c777355d18b72b67abbeef9df44fd0fd</td>\n",
              "      <td>199.00</td>\n",
              "      <td>delivered</td>\n",
              "      <td>2018-01-14 14:33:31</td>\n",
              "      <td>moveis_decoracao</td>\n",
              "      <td>furniture_decor</td>\n",
              "    </tr>\n",
              "    <tr>\n",
              "      <th>3</th>\n",
              "      <td>00024acbcdf0a6daa1e931b038114c75</td>\n",
              "      <td>7634da152a4610f1595efa32f14722fc</td>\n",
              "      <td>12.99</td>\n",
              "      <td>delivered</td>\n",
              "      <td>2018-08-08 10:00:35</td>\n",
              "      <td>perfumaria</td>\n",
              "      <td>perfumery</td>\n",
              "    </tr>\n",
              "    <tr>\n",
              "      <th>4</th>\n",
              "      <td>00042b26cf59d7ce69dfabb4e55b4fd9</td>\n",
              "      <td>ac6c3623068f30de03045865e4e10089</td>\n",
              "      <td>199.90</td>\n",
              "      <td>delivered</td>\n",
              "      <td>2017-02-04 13:57:51</td>\n",
              "      <td>ferramentas_jardim</td>\n",
              "      <td>garden_tools</td>\n",
              "    </tr>\n",
              "  </tbody>\n",
              "</table>\n",
              "</div>\n",
              "      <button class=\"colab-df-convert\" onclick=\"convertToInteractive('df-341e60dd-a3c3-468f-9367-b21e17e709ea')\"\n",
              "              title=\"Convert this dataframe to an interactive table.\"\n",
              "              style=\"display:none;\">\n",
              "        \n",
              "  <svg xmlns=\"http://www.w3.org/2000/svg\" height=\"24px\"viewBox=\"0 0 24 24\"\n",
              "       width=\"24px\">\n",
              "    <path d=\"M0 0h24v24H0V0z\" fill=\"none\"/>\n",
              "    <path d=\"M18.56 5.44l.94 2.06.94-2.06 2.06-.94-2.06-.94-.94-2.06-.94 2.06-2.06.94zm-11 1L8.5 8.5l.94-2.06 2.06-.94-2.06-.94L8.5 2.5l-.94 2.06-2.06.94zm10 10l.94 2.06.94-2.06 2.06-.94-2.06-.94-.94-2.06-.94 2.06-2.06.94z\"/><path d=\"M17.41 7.96l-1.37-1.37c-.4-.4-.92-.59-1.43-.59-.52 0-1.04.2-1.43.59L10.3 9.45l-7.72 7.72c-.78.78-.78 2.05 0 2.83L4 21.41c.39.39.9.59 1.41.59.51 0 1.02-.2 1.41-.59l7.78-7.78 2.81-2.81c.8-.78.8-2.07 0-2.86zM5.41 20L4 18.59l7.72-7.72 1.47 1.35L5.41 20z\"/>\n",
              "  </svg>\n",
              "      </button>\n",
              "      \n",
              "  <style>\n",
              "    .colab-df-container {\n",
              "      display:flex;\n",
              "      flex-wrap:wrap;\n",
              "      gap: 12px;\n",
              "    }\n",
              "\n",
              "    .colab-df-convert {\n",
              "      background-color: #E8F0FE;\n",
              "      border: none;\n",
              "      border-radius: 50%;\n",
              "      cursor: pointer;\n",
              "      display: none;\n",
              "      fill: #1967D2;\n",
              "      height: 32px;\n",
              "      padding: 0 0 0 0;\n",
              "      width: 32px;\n",
              "    }\n",
              "\n",
              "    .colab-df-convert:hover {\n",
              "      background-color: #E2EBFA;\n",
              "      box-shadow: 0px 1px 2px rgba(60, 64, 67, 0.3), 0px 1px 3px 1px rgba(60, 64, 67, 0.15);\n",
              "      fill: #174EA6;\n",
              "    }\n",
              "\n",
              "    [theme=dark] .colab-df-convert {\n",
              "      background-color: #3B4455;\n",
              "      fill: #D2E3FC;\n",
              "    }\n",
              "\n",
              "    [theme=dark] .colab-df-convert:hover {\n",
              "      background-color: #434B5C;\n",
              "      box-shadow: 0px 1px 3px 1px rgba(0, 0, 0, 0.15);\n",
              "      filter: drop-shadow(0px 1px 2px rgba(0, 0, 0, 0.3));\n",
              "      fill: #FFFFFF;\n",
              "    }\n",
              "  </style>\n",
              "\n",
              "      <script>\n",
              "        const buttonEl =\n",
              "          document.querySelector('#df-341e60dd-a3c3-468f-9367-b21e17e709ea button.colab-df-convert');\n",
              "        buttonEl.style.display =\n",
              "          google.colab.kernel.accessAllowed ? 'block' : 'none';\n",
              "\n",
              "        async function convertToInteractive(key) {\n",
              "          const element = document.querySelector('#df-341e60dd-a3c3-468f-9367-b21e17e709ea');\n",
              "          const dataTable =\n",
              "            await google.colab.kernel.invokeFunction('convertToInteractive',\n",
              "                                                     [key], {});\n",
              "          if (!dataTable) return;\n",
              "\n",
              "          const docLinkHtml = 'Like what you see? Visit the ' +\n",
              "            '<a target=\"_blank\" href=https://colab.research.google.com/notebooks/data_table.ipynb>data table notebook</a>'\n",
              "            + ' to learn more about interactive tables.';\n",
              "          element.innerHTML = '';\n",
              "          dataTable['output_type'] = 'display_data';\n",
              "          await google.colab.output.renderOutput(dataTable, element);\n",
              "          const docLink = document.createElement('div');\n",
              "          docLink.innerHTML = docLinkHtml;\n",
              "          element.appendChild(docLink);\n",
              "        }\n",
              "      </script>\n",
              "    </div>\n",
              "  </div>\n",
              "  "
            ],
            "text/plain": [
              "                           order_id  ... product_category_name_english\n",
              "0  00010242fe8c5a6d1ba2dd792cb16214  ...                    cool_stuff\n",
              "1  00018f77f2f0320c557190d7a144bdd3  ...                      pet_shop\n",
              "2  000229ec398224ef6ca0657da4fc703e  ...               furniture_decor\n",
              "3  00024acbcdf0a6daa1e931b038114c75  ...                     perfumery\n",
              "4  00042b26cf59d7ce69dfabb4e55b4fd9  ...                  garden_tools\n",
              "\n",
              "[5 rows x 7 columns]"
            ]
          },
          "metadata": {},
          "execution_count": 14
        }
      ]
    },
    {
      "cell_type": "code",
      "source": [
        "# Transforming the column order_purchase_timestamp from object to datetime.\n",
        "df_selected_cols[\"order_purchase_timestamp\"] = pd.to_datetime(df_selected_cols[\"order_purchase_timestamp\"])"
      ],
      "metadata": {
        "id": "T0zzFX68lkNU"
      },
      "execution_count": 15,
      "outputs": []
    },
    {
      "cell_type": "code",
      "source": [
        "# General info about the dataset after changing the datatype.\n",
        "df_selected_cols.info()"
      ],
      "metadata": {
        "colab": {
          "base_uri": "https://localhost:8080/"
        },
        "id": "S6l69DCFmBRb",
        "outputId": "1d5e7ebd-3a32-44b1-bba6-4217ed8d3641"
      },
      "execution_count": 16,
      "outputs": [
        {
          "output_type": "stream",
          "name": "stdout",
          "text": [
            "<class 'pandas.core.frame.DataFrame'>\n",
            "Int64Index: 112650 entries, 0 to 112649\n",
            "Data columns (total 7 columns):\n",
            " #   Column                         Non-Null Count   Dtype         \n",
            "---  ------                         --------------   -----         \n",
            " 0   order_id                       112650 non-null  object        \n",
            " 1   product_id                     112650 non-null  object        \n",
            " 2   price                          112650 non-null  float64       \n",
            " 3   order_status                   112650 non-null  object        \n",
            " 4   order_purchase_timestamp       112650 non-null  datetime64[ns]\n",
            " 5   product_category_name          111047 non-null  object        \n",
            " 6   product_category_name_english  111023 non-null  object        \n",
            "dtypes: datetime64[ns](1), float64(1), object(5)\n",
            "memory usage: 6.9+ MB\n"
          ]
        }
      ]
    },
    {
      "cell_type": "code",
      "source": [
        "# Checking missing values.\n",
        "df_selected_cols.isnull().sum()"
      ],
      "metadata": {
        "colab": {
          "base_uri": "https://localhost:8080/"
        },
        "id": "WhA214TgnuOt",
        "outputId": "3cffa4dd-b79e-4e9a-f0f1-edc7319420af"
      },
      "execution_count": 17,
      "outputs": [
        {
          "output_type": "execute_result",
          "data": {
            "text/plain": [
              "order_id                            0\n",
              "product_id                          0\n",
              "price                               0\n",
              "order_status                        0\n",
              "order_purchase_timestamp            0\n",
              "product_category_name            1603\n",
              "product_category_name_english    1627\n",
              "dtype: int64"
            ]
          },
          "metadata": {},
          "execution_count": 17
        }
      ]
    },
    {
      "cell_type": "code",
      "source": [
        "# Eliminating missing values ​​to ensure that all entries display the product category name in English.\n",
        "df_selected_cols.dropna(inplace=True)"
      ],
      "metadata": {
        "id": "Ym33VhvAn9Sb"
      },
      "execution_count": 18,
      "outputs": []
    },
    {
      "cell_type": "code",
      "source": [
        "# General info about the dataset after eliminating missing values.\n",
        "df_selected_cols.info()"
      ],
      "metadata": {
        "colab": {
          "base_uri": "https://localhost:8080/"
        },
        "id": "y0fH8nSwoCnt",
        "outputId": "f5955da2-97b5-4174-89cb-3e35560582c4"
      },
      "execution_count": 19,
      "outputs": [
        {
          "output_type": "stream",
          "name": "stdout",
          "text": [
            "<class 'pandas.core.frame.DataFrame'>\n",
            "Int64Index: 111023 entries, 0 to 112649\n",
            "Data columns (total 7 columns):\n",
            " #   Column                         Non-Null Count   Dtype         \n",
            "---  ------                         --------------   -----         \n",
            " 0   order_id                       111023 non-null  object        \n",
            " 1   product_id                     111023 non-null  object        \n",
            " 2   price                          111023 non-null  float64       \n",
            " 3   order_status                   111023 non-null  object        \n",
            " 4   order_purchase_timestamp       111023 non-null  datetime64[ns]\n",
            " 5   product_category_name          111023 non-null  object        \n",
            " 6   product_category_name_english  111023 non-null  object        \n",
            "dtypes: datetime64[ns](1), float64(1), object(5)\n",
            "memory usage: 6.8+ MB\n"
          ]
        }
      ]
    },
    {
      "cell_type": "code",
      "source": [
        "# Counting the number of unique values per product category name in English.\n",
        "pd.value_counts(df_selected_cols['product_category_name_english'])"
      ],
      "metadata": {
        "colab": {
          "base_uri": "https://localhost:8080/"
        },
        "id": "b9d3tQqGpeQn",
        "outputId": "fcd3d425-76f9-44f1-b3df-5a0b8595bef8"
      },
      "execution_count": 20,
      "outputs": [
        {
          "output_type": "execute_result",
          "data": {
            "text/plain": [
              "bed_bath_table               11115\n",
              "health_beauty                 9670\n",
              "sports_leisure                8641\n",
              "furniture_decor               8334\n",
              "computers_accessories         7827\n",
              "                             ...  \n",
              "arts_and_craftmanship           24\n",
              "la_cuisine                      14\n",
              "cds_dvds_musicals               14\n",
              "fashion_childrens_clothes        8\n",
              "security_and_services            2\n",
              "Name: product_category_name_english, Length: 71, dtype: int64"
            ]
          },
          "metadata": {},
          "execution_count": 20
        }
      ]
    },
    {
      "cell_type": "markdown",
      "source": [
        "# **Analysis**\n",
        "\n",
        "The best-selling categories in 2017-2018 in number of products were:\n",
        "\n",
        "* bed_bath_table\n",
        "* health_beauty\n",
        "* sports_leisure\n",
        "* furniture_decor\n",
        "* computers_accessories"
      ],
      "metadata": {
        "id": "6PREsOpBhBNX"
      }
    },
    {
      "cell_type": "markdown",
      "source": [
        "# **Next Steps**\n",
        "\n",
        "Creating a Time Series dataset for the Bed Bath & Table products category to support a Machine Learning Feasibility Study."
      ],
      "metadata": {
        "id": "5GzHvihNMwvG"
      }
    }
  ]
}